{
 "cells": [
  {
   "cell_type": "markdown",
   "metadata": {},
   "source": [
    "look here for all options:\n",
    "http://open-platform.theguardian.com/documentation/search"
   ]
  },
  {
   "cell_type": "code",
   "execution_count": 1,
   "metadata": {
    "collapsed": true
   },
   "outputs": [],
   "source": [
    "import requests,json,pandas as pd,pickle"
   ]
  },
  {
   "cell_type": "code",
   "execution_count": 4,
   "metadata": {
    "collapsed": false
   },
   "outputs": [],
   "source": [
    "countries=pd.read_csv('../aux/countries.txt2',header=None)\n",
    "countries=[m.lower() for m in countries[0]]\n",
    "apiKeyInp=open('../aux/apiKey','r')"
   ]
  },
  {
   "cell_type": "code",
   "execution_count": 5,
   "metadata": {
    "collapsed": false
   },
   "outputs": [],
   "source": [
    "apiKey=apiKeyInp.readline().strip()\n",
    "baseURL='http://content.guardianapis.com/search?api-key='+apiKey+'&show-blocks=all&page-size=50'"
   ]
  },
  {
   "cell_type": "code",
   "execution_count": 4,
   "metadata": {
    "collapsed": false
   },
   "outputs": [],
   "source": [
    "def get_req(Q,from_date,to_date):\n",
    "    url=baseURL+'&q='+Q+'&from-date='+from_date+'&to-date='+to_date\n",
    "    r=requests.get(url)\n",
    "    rj=r.json()['response']\n",
    "    return(rj)\n",
    "\n",
    "def get_data(country,year):\n",
    "    year=str(year)\n",
    "    dd=['01-01','04-1','07-01','10-01','12-30']\n",
    "    quarters=[(year+'-'+dd[i],year+'-'+dd[i+1]) for i in range(len(dd)-1)]\n",
    "    out=[get_req(country,m[0],m[1]) for m in quarters]\n",
    "    return(out)"
   ]
  },
  {
   "cell_type": "code",
   "execution_count": 5,
   "metadata": {
    "collapsed": false
   },
   "outputs": [],
   "source": [
    "def get_mention_graph(Q,year):\n",
    "    dic={}\n",
    "    r1=get_data(Q,year)\n",
    "    pages=[rj['pages'] for rj in r1]\n",
    "    res=[rj['results'] for rj in r1]\n",
    "    cont=[[m['blocks']['body'] for m in resi] for resi in res]\n",
    "    contText=[[m[0]['bodyTextSummary'] for m in conti if len(m)!=0] for conti in cont]\n",
    "    cont_text=[]\n",
    "    for j in range(4):\n",
    "        m=''\n",
    "        for i in contText[j]:\n",
    "            m+=i\n",
    "        cont_text+=[m]\n",
    "    dic['pages']=pages\n",
    "    dic['content']=cont_text\n",
    "    cnt_counts=[[(m,ss.lower().count(m)) for m in countries] for ss in dic['content']]\n",
    "    dic['cgraph']=[[(Q,m[0],m[1]) for m in ss if m[1]!=0] for ss in cnt_counts]\n",
    "    return(dic)"
   ]
  },
  {
   "cell_type": "code",
   "execution_count": 6,
   "metadata": {
    "collapsed": false
   },
   "outputs": [],
   "source": [
    "out_dic={}\n",
    "for Q in countries:\n",
    "    for Y in range(2006,2017):\n",
    "        kk=Q+\"_\"+str(Y)\n",
    "        w=get_mention_graph(Q,Y)\n",
    "        out_dic[kk]=w\n",
    "        \n",
    "pickle.dump(out_dic,open('graphs_2006_2016.pkl','wb'))"
   ]
  }
 ],
 "metadata": {
  "celltoolbar": "Raw Cell Format",
  "kernelspec": {
   "display_name": "Python 2",
   "language": "python",
   "name": "python2"
  },
  "language_info": {
   "codemirror_mode": {
    "name": "ipython",
    "version": 2
   },
   "file_extension": ".py",
   "mimetype": "text/x-python",
   "name": "python",
   "nbconvert_exporter": "python",
   "pygments_lexer": "ipython2",
   "version": "2.7.10"
  }
 },
 "nbformat": 4,
 "nbformat_minor": 0
}
